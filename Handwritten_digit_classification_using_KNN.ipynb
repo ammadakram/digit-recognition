{
  "nbformat": 4,
  "nbformat_minor": 0,
  "metadata": {
    "colab": {
      "provenance": []
    },
    "kernelspec": {
      "name": "python3",
      "display_name": "Python 3"
    },
    "language_info": {
      "name": "python"
    }
  },
  "cells": [
    {
      "cell_type": "code",
      "execution_count": 80,
      "metadata": {
        "id": "Dbb4YjHEol8N",
        "outputId": "c2717f74-fb5e-4862-9e3a-584049894e53",
        "colab": {
          "base_uri": "https://localhost:8080/"
        }
      },
      "outputs": [
        {
          "output_type": "stream",
          "name": "stdout",
          "text": [
            "\u001b[31mERROR: Could not find a version that satisfies the requirement collections (from versions: none)\u001b[0m\u001b[31m\n",
            "\u001b[0m\u001b[31mERROR: No matching distribution found for collections\u001b[0m\u001b[31m\n",
            "\u001b[0m"
          ]
        }
      ],
      "source": [
        "!pip install collections\n",
        "import numpy as np\n",
        "import matplotlib.pyplot as plt\n",
        "from collections import Counter\n",
        "import tensorflow as tf"
      ]
    },
    {
      "cell_type": "code",
      "source": [
        "#loading the data that is already given to us in tensor flow\n",
        "mnist = tf.keras.datasets.mnist\n",
        "(x_train, y_train), (x_test, y_test) = mnist.load_data()"
      ],
      "metadata": {
        "id": "jApYBsKhooDc"
      },
      "execution_count": 81,
      "outputs": []
    },
    {
      "cell_type": "code",
      "source": [
        "#normalize the pixel values that range from 0-255. normalized values(range 0-1) are more suitable for machine learning\n",
        "x_train = tf.keras.utils.normalize(x_train, axis=1)"
      ],
      "metadata": {
        "id": "U6pDLCruooHh"
      },
      "execution_count": 82,
      "outputs": []
    },
    {
      "cell_type": "code",
      "source": [
        "#flattening the 28x28 grid. 28 x 28 is the dimention of the digit image\n",
        "x_flats = []\n",
        "for x_obj in x_train:\n",
        "  x_flats.append(x_obj.reshape([1,784]))\n"
      ],
      "metadata": {
        "id": "OfdbHQJTooJ8"
      },
      "execution_count": 83,
      "outputs": []
    },
    {
      "cell_type": "code",
      "source": [
        "from collections import defaultdict"
      ],
      "metadata": {
        "id": "X27xGC5uooMv"
      },
      "execution_count": 84,
      "outputs": []
    },
    {
      "cell_type": "code",
      "source": [
        "#filling up the dictionary containing all the labels(0 to 9) with several corresponding pixel values(flattened)\n",
        "points = defaultdict(list)\n",
        "for i, label in enumerate(y_train):\n",
        "  points[label] += [x_flats[i]]"
      ],
      "metadata": {
        "id": "lJt0PDtDooO4"
      },
      "execution_count": 85,
      "outputs": []
    },
    {
      "cell_type": "code",
      "source": [
        "# normal euclidean distance formula. It is possible to use more advanced distances such as a weighted distance\n",
        "def eucl_dist(p,q):\n",
        "  return np.sqrt(np.sum((np.array(p)-np.array(q)) ** 2))\n"
      ],
      "metadata": {
        "id": "SHcf_EH5ooRc"
      },
      "execution_count": 86,
      "outputs": []
    },
    {
      "cell_type": "code",
      "source": [
        "class KNearestNeighbors:\n",
        "  def __init__(self,k=3):\n",
        "    self.k = k\n",
        "    self.point = None\n",
        "\n",
        "  def fit(self, points):\n",
        "    self.points = points\n",
        "\n",
        "  def predict(self, new_point):\n",
        "    distances=[]\n",
        "\n",
        "    for category in self.points:\n",
        "      for point in self.points[category]:\n",
        "        distance = eucl_dist(point, new_point)\n",
        "        distances.append([distance, category])\n",
        "    categories = [category[1] for category in sorted(distances)[:self.k]]\n",
        "    result = Counter(categories).most_common(1)[0][0]\n",
        "    return result"
      ],
      "metadata": {
        "id": "mqWrv34yooT4"
      },
      "execution_count": 87,
      "outputs": []
    },
    {
      "cell_type": "code",
      "source": [
        "#testing our algorithm with a random value from the test data. We preprocess the test data just as we did for training data\n",
        "x_test = tf.keras.utils.normalize(x_test, axis=1)"
      ],
      "metadata": {
        "id": "PuvW7qHQyp4k"
      },
      "execution_count": 88,
      "outputs": []
    },
    {
      "cell_type": "code",
      "source": [
        "clf = KNearestNeighbors()\n",
        "clf.fit(points)\n",
        "for i in range(10):\n",
        "  new_point = x_test[i].reshape([1,784])\n",
        "  print(y_test[i], '------>', clf.predict(new_point))\n"
      ],
      "metadata": {
        "colab": {
          "base_uri": "https://localhost:8080/"
        },
        "id": "vwTBa7GlzBcI",
        "outputId": "fad4bba9-1d04-43b3-8309-9d6fe8391766"
      },
      "execution_count": 90,
      "outputs": [
        {
          "output_type": "stream",
          "name": "stdout",
          "text": [
            "7 ------> 7\n",
            "2 ------> 2\n",
            "1 ------> 1\n",
            "0 ------> 0\n",
            "4 ------> 4\n",
            "1 ------> 1\n",
            "4 ------> 4\n",
            "9 ------> 9\n",
            "5 ------> 5\n",
            "9 ------> 9\n"
          ]
        }
      ]
    },
    {
      "cell_type": "code",
      "source": [],
      "metadata": {
        "id": "QbuG3ab_znNd"
      },
      "execution_count": 89,
      "outputs": []
    },
    {
      "cell_type": "code",
      "source": [],
      "metadata": {
        "id": "BGbdFoJYz27T"
      },
      "execution_count": 89,
      "outputs": []
    },
    {
      "cell_type": "code",
      "source": [],
      "metadata": {
        "id": "AxnY7tzxz28-"
      },
      "execution_count": 89,
      "outputs": []
    },
    {
      "cell_type": "code",
      "source": [],
      "metadata": {
        "id": "vIqK7zBkz2-5"
      },
      "execution_count": 89,
      "outputs": []
    },
    {
      "cell_type": "code",
      "source": [],
      "metadata": {
        "id": "Qq6lAjnbz3Cv"
      },
      "execution_count": 89,
      "outputs": []
    }
  ]
}